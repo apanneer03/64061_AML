{
  "cells": [
    {
      "cell_type": "markdown",
      "metadata": {
        "id": "Xdeo_wghpEqQ"
      },
      "source": [
        "**ADVANCED MACHINE LEARNING**"
      ]
    },
    {
      "cell_type": "markdown",
      "metadata": {
        "id": "T4gi9JkIpEqR"
      },
      "source": [
        "Assignment 1"
      ]
    },
    {
      "cell_type": "markdown",
      "metadata": {
        "id": "InsDhaulpEqR"
      },
      "source": [
        "**Loading the IMDB dataset**"
      ]
    },
    {
      "cell_type": "code",
      "execution_count": null,
      "metadata": {
        "id": "aCO7IwftpEqR"
      },
      "outputs": [],
      "source": [
        "from tensorflow.keras.datasets import imdb\n",
        "(train_data, train_labels), (test_data, test_labels) = imdb.load_data(\n",
        "    num_words=10000)"
      ]
    },
    {
      "cell_type": "code",
      "execution_count": null,
      "metadata": {
        "colab": {
          "base_uri": "https://localhost:8080/"
        },
        "id": "ofJ0i9jRpEqT",
        "outputId": "6110dd07-e0e4-451e-fa5a-0dd57bbaf897"
      },
      "outputs": [
        {
          "output_type": "execute_result",
          "data": {
            "text/plain": [
              "[1,\n",
              " 14,\n",
              " 22,\n",
              " 16,\n",
              " 43,\n",
              " 530,\n",
              " 973,\n",
              " 1622,\n",
              " 1385,\n",
              " 65,\n",
              " 458,\n",
              " 4468,\n",
              " 66,\n",
              " 3941,\n",
              " 4,\n",
              " 173,\n",
              " 36,\n",
              " 256,\n",
              " 5,\n",
              " 25,\n",
              " 100,\n",
              " 43,\n",
              " 838,\n",
              " 112,\n",
              " 50,\n",
              " 670,\n",
              " 2,\n",
              " 9,\n",
              " 35,\n",
              " 480,\n",
              " 284,\n",
              " 5,\n",
              " 150,\n",
              " 4,\n",
              " 172,\n",
              " 112,\n",
              " 167,\n",
              " 2,\n",
              " 336,\n",
              " 385,\n",
              " 39,\n",
              " 4,\n",
              " 172,\n",
              " 4536,\n",
              " 1111,\n",
              " 17,\n",
              " 546,\n",
              " 38,\n",
              " 13,\n",
              " 447,\n",
              " 4,\n",
              " 192,\n",
              " 50,\n",
              " 16,\n",
              " 6,\n",
              " 147,\n",
              " 2025,\n",
              " 19,\n",
              " 14,\n",
              " 22,\n",
              " 4,\n",
              " 1920,\n",
              " 4613,\n",
              " 469,\n",
              " 4,\n",
              " 22,\n",
              " 71,\n",
              " 87,\n",
              " 12,\n",
              " 16,\n",
              " 43,\n",
              " 530,\n",
              " 38,\n",
              " 76,\n",
              " 15,\n",
              " 13,\n",
              " 1247,\n",
              " 4,\n",
              " 22,\n",
              " 17,\n",
              " 515,\n",
              " 17,\n",
              " 12,\n",
              " 16,\n",
              " 626,\n",
              " 18,\n",
              " 2,\n",
              " 5,\n",
              " 62,\n",
              " 386,\n",
              " 12,\n",
              " 8,\n",
              " 316,\n",
              " 8,\n",
              " 106,\n",
              " 5,\n",
              " 4,\n",
              " 2223,\n",
              " 5244,\n",
              " 16,\n",
              " 480,\n",
              " 66,\n",
              " 3785,\n",
              " 33,\n",
              " 4,\n",
              " 130,\n",
              " 12,\n",
              " 16,\n",
              " 38,\n",
              " 619,\n",
              " 5,\n",
              " 25,\n",
              " 124,\n",
              " 51,\n",
              " 36,\n",
              " 135,\n",
              " 48,\n",
              " 25,\n",
              " 1415,\n",
              " 33,\n",
              " 6,\n",
              " 22,\n",
              " 12,\n",
              " 215,\n",
              " 28,\n",
              " 77,\n",
              " 52,\n",
              " 5,\n",
              " 14,\n",
              " 407,\n",
              " 16,\n",
              " 82,\n",
              " 2,\n",
              " 8,\n",
              " 4,\n",
              " 107,\n",
              " 117,\n",
              " 5952,\n",
              " 15,\n",
              " 256,\n",
              " 4,\n",
              " 2,\n",
              " 7,\n",
              " 3766,\n",
              " 5,\n",
              " 723,\n",
              " 36,\n",
              " 71,\n",
              " 43,\n",
              " 530,\n",
              " 476,\n",
              " 26,\n",
              " 400,\n",
              " 317,\n",
              " 46,\n",
              " 7,\n",
              " 4,\n",
              " 2,\n",
              " 1029,\n",
              " 13,\n",
              " 104,\n",
              " 88,\n",
              " 4,\n",
              " 381,\n",
              " 15,\n",
              " 297,\n",
              " 98,\n",
              " 32,\n",
              " 2071,\n",
              " 56,\n",
              " 26,\n",
              " 141,\n",
              " 6,\n",
              " 194,\n",
              " 7486,\n",
              " 18,\n",
              " 4,\n",
              " 226,\n",
              " 22,\n",
              " 21,\n",
              " 134,\n",
              " 476,\n",
              " 26,\n",
              " 480,\n",
              " 5,\n",
              " 144,\n",
              " 30,\n",
              " 5535,\n",
              " 18,\n",
              " 51,\n",
              " 36,\n",
              " 28,\n",
              " 224,\n",
              " 92,\n",
              " 25,\n",
              " 104,\n",
              " 4,\n",
              " 226,\n",
              " 65,\n",
              " 16,\n",
              " 38,\n",
              " 1334,\n",
              " 88,\n",
              " 12,\n",
              " 16,\n",
              " 283,\n",
              " 5,\n",
              " 16,\n",
              " 4472,\n",
              " 113,\n",
              " 103,\n",
              " 32,\n",
              " 15,\n",
              " 16,\n",
              " 5345,\n",
              " 19,\n",
              " 178,\n",
              " 32]"
            ]
          },
          "metadata": {},
          "execution_count": 50
        }
      ],
      "source": [
        "train_data[0]"
      ]
    },
    {
      "cell_type": "code",
      "execution_count": null,
      "metadata": {
        "colab": {
          "base_uri": "https://localhost:8080/"
        },
        "id": "rL_v94vLpEqT",
        "outputId": "1401d95d-8234-4292-b0ef-6ded1530a72d"
      },
      "outputs": [
        {
          "output_type": "execute_result",
          "data": {
            "text/plain": [
              "1"
            ]
          },
          "metadata": {},
          "execution_count": 51
        }
      ],
      "source": [
        "train_labels[0]"
      ]
    },
    {
      "cell_type": "code",
      "execution_count": null,
      "metadata": {
        "colab": {
          "base_uri": "https://localhost:8080/"
        },
        "id": "LIuW6CRipEqT",
        "outputId": "37ff6c60-dc4b-49d9-ba7b-259bd04dd2d2"
      },
      "outputs": [
        {
          "output_type": "execute_result",
          "data": {
            "text/plain": [
              "9999"
            ]
          },
          "metadata": {},
          "execution_count": 52
        }
      ],
      "source": [
        "max([max(sequence) for sequence in train_data])"
      ]
    },
    {
      "cell_type": "markdown",
      "metadata": {
        "id": "tFKr9ECDpEqU"
      },
      "source": [
        "**Decoding reviews back to text**"
      ]
    },
    {
      "cell_type": "code",
      "execution_count": null,
      "metadata": {
        "id": "wPrlYXbppEqU"
      },
      "outputs": [],
      "source": [
        "word_index = imdb.get_word_index()\n",
        "reverse_word_index = dict(\n",
        "    [(value, key) for (key, value) in word_index.items()])\n",
        "decoded_review = \" \".join(\n",
        "    [reverse_word_index.get(i - 3, \"?\") for i in train_data[0]])"
      ]
    },
    {
      "cell_type": "markdown",
      "metadata": {
        "id": "21rGrV9LpEqU"
      },
      "source": [
        "### Preparing the data"
      ]
    },
    {
      "cell_type": "markdown",
      "metadata": {
        "id": "Vp2-E6E8pEqU"
      },
      "source": [
        "**Encoding the integer sequences via multi-hot encoding**"
      ]
    },
    {
      "cell_type": "code",
      "execution_count": null,
      "metadata": {
        "id": "40NMyzW-pEqU"
      },
      "outputs": [],
      "source": [
        "import numpy as np\n",
        "def vectorize_sequences(sequences, dimension=10000):\n",
        "    results = np.zeros((len(sequences), dimension))\n",
        "    for i, sequence in enumerate(sequences):\n",
        "        for j in sequence:\n",
        "            results[i, j] = 1.\n",
        "    return results\n",
        "x_train = vectorize_sequences(train_data)\n",
        "x_test = vectorize_sequences(test_data)"
      ]
    },
    {
      "cell_type": "code",
      "execution_count": null,
      "metadata": {
        "colab": {
          "base_uri": "https://localhost:8080/"
        },
        "id": "GhKPyWIapEqV",
        "outputId": "d09a62c3-f876-4210-cf4c-e122fc9389be"
      },
      "outputs": [
        {
          "output_type": "execute_result",
          "data": {
            "text/plain": [
              "array([0., 1., 1., ..., 0., 0., 0.])"
            ]
          },
          "metadata": {},
          "execution_count": 55
        }
      ],
      "source": [
        "x_train[0]"
      ]
    },
    {
      "cell_type": "code",
      "execution_count": null,
      "metadata": {
        "id": "M-rAaAu4pEqV"
      },
      "outputs": [],
      "source": [
        "y_train = np.asarray(train_labels).astype(\"float32\")\n",
        "y_test = np.asarray(test_labels).astype(\"float32\")"
      ]
    },
    {
      "cell_type": "markdown",
      "metadata": {
        "id": "kdQFaQ49pEqV"
      },
      "source": [
        "### Building your model"
      ]
    },
    {
      "cell_type": "markdown",
      "metadata": {
        "id": "721DaDr1pEqV"
      },
      "source": [
        "**Model definition**"
      ]
    },
    {
      "cell_type": "markdown",
      "source": [
        "In this model, I am using 3 layers with 64 nodes. Activation function \"tanh\" is used instead of \"ReLU\". \n"
      ],
      "metadata": {
        "id": "QypcziG-4G5Y"
      }
    },
    {
      "cell_type": "markdown",
      "source": [
        "ReLU function is not suitable for problems where negative values are important because it ranges from 0-infinity.\n",
        "Tanh function is suitable for model with both positive and negative values because it ranges from -1 to +1 with zero as mid point.\n"
      ],
      "metadata": {
        "id": "2pwez1qp8TEL"
      }
    },
    {
      "cell_type": "code",
      "execution_count": null,
      "metadata": {
        "id": "zluslMT2pEqV"
      },
      "outputs": [],
      "source": [
        "from tensorflow import keras\n",
        "from tensorflow.keras import layers\n",
        "from tensorflow.keras import regularizers\n",
        "\n",
        "\n",
        "model = keras.Sequential([\n",
        "    layers.Dense(64,kernel_regularizer=regularizers.l2(0.005),activation=\"tanh\"),\n",
        "    layers.Dense(64,activation=\"tanh\"),\n",
        "    layers.Dropout(0.5),\n",
        "    layers.Dense(64,activation=\"tanh\"),\n",
        "    layers.Dropout(0.5),\n",
        "    layers.Dense(1, activation=\"sigmoid\")\n",
        "])"
      ]
    },
    {
      "cell_type": "markdown",
      "metadata": {
        "id": "wo5rhIropEqW"
      },
      "source": [
        "**Compiling the model**"
      ]
    },
    {
      "cell_type": "code",
      "execution_count": null,
      "metadata": {
        "id": "gklsMd0YpEqW"
      },
      "outputs": [],
      "source": [
        "model.compile(optimizer=\"rmsprop\",\n",
        "              loss=\"mse\",\n",
        "              metrics=[\"accuracy\"])"
      ]
    },
    {
      "cell_type": "markdown",
      "metadata": {
        "id": "ipKw9K_9pEqW"
      },
      "source": [
        "### Validating your approach"
      ]
    },
    {
      "cell_type": "markdown",
      "metadata": {
        "id": "59xF49KNpEqW"
      },
      "source": [
        "**Setting aside a validation set**"
      ]
    },
    {
      "cell_type": "code",
      "execution_count": null,
      "metadata": {
        "id": "s0KPt28YpEqW"
      },
      "outputs": [],
      "source": [
        "x_val = x_train[:10000]\n",
        "partial_x_train = x_train[10000:]\n",
        "y_val = y_train[:10000]\n",
        "partial_y_train = y_train[10000:]"
      ]
    },
    {
      "cell_type": "markdown",
      "metadata": {
        "id": "lNu9iGdApEqW"
      },
      "source": [
        "**Training your model**"
      ]
    },
    {
      "cell_type": "code",
      "execution_count": null,
      "metadata": {
        "colab": {
          "base_uri": "https://localhost:8080/"
        },
        "id": "w52ZeUj9pEqW",
        "outputId": "ee1b002e-b377-4e96-f7d6-c416a50fcab5"
      },
      "outputs": [
        {
          "output_type": "stream",
          "name": "stdout",
          "text": [
            "Epoch 1/20\n",
            "30/30 [==============================] - 2s 52ms/step - loss: 0.5234 - accuracy: 0.7363 - val_loss: 0.2849 - val_accuracy: 0.8385\n",
            "Epoch 2/20\n",
            "30/30 [==============================] - 1s 40ms/step - loss: 0.2149 - accuracy: 0.8625 - val_loss: 0.1620 - val_accuracy: 0.8761\n",
            "Epoch 3/20\n",
            "30/30 [==============================] - 2s 52ms/step - loss: 0.1488 - accuracy: 0.8800 - val_loss: 0.1636 - val_accuracy: 0.8435\n",
            "Epoch 4/20\n",
            "30/30 [==============================] - 2s 55ms/step - loss: 0.1336 - accuracy: 0.8848 - val_loss: 0.1310 - val_accuracy: 0.8818\n",
            "Epoch 5/20\n",
            "30/30 [==============================] - 1s 39ms/step - loss: 0.1243 - accuracy: 0.8905 - val_loss: 0.1361 - val_accuracy: 0.8718\n",
            "Epoch 6/20\n",
            "30/30 [==============================] - 1s 38ms/step - loss: 0.1120 - accuracy: 0.9059 - val_loss: 0.1525 - val_accuracy: 0.8469\n",
            "Epoch 7/20\n",
            "30/30 [==============================] - 1s 39ms/step - loss: 0.1127 - accuracy: 0.9048 - val_loss: 0.1351 - val_accuracy: 0.8676\n",
            "Epoch 8/20\n",
            "30/30 [==============================] - 1s 39ms/step - loss: 0.1117 - accuracy: 0.9038 - val_loss: 0.1297 - val_accuracy: 0.8748\n",
            "Epoch 9/20\n",
            "30/30 [==============================] - 1s 38ms/step - loss: 0.0979 - accuracy: 0.9212 - val_loss: 0.1227 - val_accuracy: 0.8829\n",
            "Epoch 10/20\n",
            "30/30 [==============================] - 1s 39ms/step - loss: 0.1053 - accuracy: 0.9087 - val_loss: 0.1533 - val_accuracy: 0.8469\n",
            "Epoch 11/20\n",
            "30/30 [==============================] - 1s 38ms/step - loss: 0.1013 - accuracy: 0.9149 - val_loss: 0.1235 - val_accuracy: 0.8816\n",
            "Epoch 12/20\n",
            "30/30 [==============================] - 1s 40ms/step - loss: 0.0926 - accuracy: 0.9251 - val_loss: 0.1428 - val_accuracy: 0.8537\n",
            "Epoch 13/20\n",
            "30/30 [==============================] - 2s 58ms/step - loss: 0.0899 - accuracy: 0.9249 - val_loss: 0.1237 - val_accuracy: 0.8770\n",
            "Epoch 14/20\n",
            "30/30 [==============================] - 1s 43ms/step - loss: 0.0863 - accuracy: 0.9302 - val_loss: 0.1371 - val_accuracy: 0.8598\n",
            "Epoch 15/20\n",
            "30/30 [==============================] - 1s 40ms/step - loss: 0.0850 - accuracy: 0.9320 - val_loss: 0.1237 - val_accuracy: 0.8805\n",
            "Epoch 16/20\n",
            "30/30 [==============================] - 1s 39ms/step - loss: 0.0768 - accuracy: 0.9408 - val_loss: 0.1250 - val_accuracy: 0.8748\n",
            "Epoch 17/20\n",
            "30/30 [==============================] - 1s 40ms/step - loss: 0.0805 - accuracy: 0.9355 - val_loss: 0.1345 - val_accuracy: 0.8678\n",
            "Epoch 18/20\n",
            "30/30 [==============================] - 1s 40ms/step - loss: 0.0738 - accuracy: 0.9430 - val_loss: 0.1287 - val_accuracy: 0.8711\n",
            "Epoch 19/20\n",
            "30/30 [==============================] - 1s 39ms/step - loss: 0.0749 - accuracy: 0.9405 - val_loss: 0.1266 - val_accuracy: 0.8766\n",
            "Epoch 20/20\n",
            "30/30 [==============================] - 1s 40ms/step - loss: 0.0692 - accuracy: 0.9485 - val_loss: 0.1276 - val_accuracy: 0.8745\n"
          ]
        }
      ],
      "source": [
        "history = model.fit(partial_x_train,\n",
        "                    partial_y_train,\n",
        "                    epochs=20,\n",
        "                    batch_size=512,\n",
        "                    validation_data=(x_val, y_val))"
      ]
    },
    {
      "cell_type": "code",
      "execution_count": null,
      "metadata": {
        "colab": {
          "base_uri": "https://localhost:8080/"
        },
        "id": "34iNpUxtpEqX",
        "outputId": "17c383f6-9348-41d1-d863-9f4ad8b52814"
      },
      "outputs": [
        {
          "output_type": "execute_result",
          "data": {
            "text/plain": [
              "dict_keys(['loss', 'accuracy', 'val_loss', 'val_accuracy'])"
            ]
          },
          "metadata": {},
          "execution_count": 34
        }
      ],
      "source": [
        "history_dict = history.history\n",
        "history_dict.keys()"
      ]
    },
    {
      "cell_type": "markdown",
      "metadata": {
        "id": "uX_wwRWTpEqX"
      },
      "source": [
        "**Plotting the training and validation loss**"
      ]
    },
    {
      "cell_type": "code",
      "execution_count": null,
      "metadata": {
        "colab": {
          "base_uri": "https://localhost:8080/",
          "height": 295
        },
        "id": "49KhqS03pEqX",
        "outputId": "221af292-a32c-4049-e01c-6ef97b254ec9"
      },
      "outputs": [
        {
          "output_type": "display_data",
          "data": {
            "text/plain": [
              "<Figure size 432x288 with 1 Axes>"
            ],
            "image/png": "[encoded data removed]"
          },
          "metadata": {
            "needs_background": "light"
          }
        }
      ],
      "source": [
        "import matplotlib.pyplot as plt\n",
        "history_dict = history.history\n",
        "loss_values = history_dict[\"loss\"]\n",
        "val_loss_values = history_dict[\"val_loss\"]\n",
        "epochs = range(1, len(loss_values) + 1)\n",
        "plt.plot(epochs, loss_values, \"bo\", label=\"Training loss\")\n",
        "plt.plot(epochs, val_loss_values, \"b\", label=\"Validation loss\")\n",
        "plt.title(\"Training and validation loss\")\n",
        "plt.xlabel(\"Epochs\")\n",
        "plt.ylabel(\"Loss\")\n",
        "plt.legend()\n",
        "plt.show()"
      ]
    },
    {
      "cell_type": "markdown",
      "metadata": {
        "id": "3Ak9MpoQpEqX"
      },
      "source": [
        "**Plotting the training and validation accuracy**"
      ]
    },
    {
      "cell_type": "code",
      "execution_count": null,
      "metadata": {
        "colab": {
          "base_uri": "https://localhost:8080/",
          "height": 295
        },
        "id": "yw3LL8lDpEqX",
        "outputId": "231d5a52-8eef-472d-c306-fb368b1bfb77"
      },
      "outputs": [
        {
          "output_type": "display_data",
          "data": {
            "text/plain": [
              "<Figure size 432x288 with 1 Axes>"
            ],
            "image/png": "[encoded data removed]"
          },
          "metadata": {
            "needs_background": "light"
          }
        }
      ],
      "source": [
        "plt.clf()\n",
        "acc = history_dict[\"accuracy\"]\n",
        "val_acc = history_dict[\"val_accuracy\"]\n",
        "plt.plot(epochs, acc, \"bo\", label=\"Training acc\")\n",
        "plt.plot(epochs, val_acc, \"b\", label=\"Validation acc\")\n",
        "plt.title(\"Training and validation accuracy\")\n",
        "plt.xlabel(\"Epochs\")\n",
        "plt.ylabel(\"Accuracy\")\n",
        "plt.legend()\n",
        "plt.show()"
      ]
    },
    {
      "cell_type": "code",
      "source": [
        "results = model.evaluate(x_test, y_test)"
      ],
      "metadata": {
        "colab": {
          "base_uri": "https://localhost:8080/"
        },
        "id": "uLg_A78Q89Iz",
        "outputId": "6c30c9f5-f76a-4aea-a45f-86dbc7b3a0df"
      },
      "execution_count": null,
      "outputs": [
        {
          "output_type": "stream",
          "name": "stdout",
          "text": [
            "782/782 [==============================] - 2s 3ms/step - loss: 0.1331 - accuracy: 0.8675\n"
          ]
        }
      ]
    },
    {
      "cell_type": "code",
      "source": [
        "results"
      ],
      "metadata": {
        "colab": {
          "base_uri": "https://localhost:8080/"
        },
        "id": "2eug0Rj28_Jf",
        "outputId": "07ac54f3-2a34-4c99-f744-862f1257c23b"
      },
      "execution_count": null,
      "outputs": [
        {
          "output_type": "execute_result",
          "data": {
            "text/plain": [
              "[0.13307130336761475, 0.8675199747085571]"
            ]
          },
          "metadata": {},
          "execution_count": 73
        }
      ]
    },
    {
      "cell_type": "markdown",
      "source": [
        "I've seen from the aforementioned models, which have various levels and functions, that the model with more nodes appears to be more stable. For each of these models, the training accuracy is still higher. Several layers and the MSE loss function helped me achieve some of the best outcomes."
      ],
      "metadata": {
        "id": "dbDFwJ6GeSNc"
      }
    },
    {
      "cell_type": "markdown",
      "metadata": {
        "id": "0R7Ybw24pEqY"
      },
      "source": [
        "**Retraining a model from scratch**"
      ]
    },
    {
      "cell_type": "code",
      "execution_count": null,
      "metadata": {
        "colab": {
          "base_uri": "https://localhost:8080/"
        },
        "id": "xhJzNIKspEqY",
        "outputId": "0b9faa0d-d553-4f70-8905-3e8e2c5fddc0"
      },
      "outputs": [
        {
          "output_type": "stream",
          "name": "stdout",
          "text": [
            "Epoch 1/4\n",
            "49/49 [==============================] - 2s 31ms/step - loss: 0.3586 - accuracy: 0.7912\n",
            "Epoch 2/4\n",
            "49/49 [==============================] - 2s 34ms/step - loss: 0.1566 - accuracy: 0.8916\n",
            "Epoch 3/4\n",
            "49/49 [==============================] - 2s 43ms/step - loss: 0.1496 - accuracy: 0.8952\n",
            "Epoch 4/4\n",
            "49/49 [==============================] - 2s 31ms/step - loss: 0.1500 - accuracy: 0.8953\n",
            "782/782 [==============================] - 2s 2ms/step - loss: 0.1632 - accuracy: 0.8758\n"
          ]
        }
      ],
      "source": [
        "model = keras.Sequential([\n",
        "    layers.Dense(64,kernel_regularizer=regularizers.l2(0.005),activation=\"tanh\"),\n",
        "    layers.Dropout(0.5),\n",
        "    layers.Dense(64, activation=\"tanh\"),\n",
        "    layers.Dropout(0.5),\n",
        "    layers.Dense(64, activation=\"tanh\"),\n",
        "    layers.Dropout(0.5),\n",
        "    layers.Dense(1, activation=\"sigmoid\")\n",
        "])\n",
        "model.compile(optimizer=\"adam\",\n",
        "              loss=\"mse\",\n",
        "              metrics=[\"accuracy\"])\n",
        "model.fit(x_train, y_train, epochs=4, batch_size=512)\n",
        "results = model.evaluate(x_test, y_test)"
      ]
    },
    {
      "cell_type": "code",
      "execution_count": null,
      "metadata": {
        "colab": {
          "base_uri": "https://localhost:8080/"
        },
        "id": "J_Lpd47GpEqZ",
        "outputId": "2a0b9141-5fdf-4b1b-e052-4bb127131ea0"
      },
      "outputs": [
        {
          "output_type": "execute_result",
          "data": {
            "text/plain": [
              "[0.09821346402168274, 0.8769199848175049]"
            ]
          },
          "metadata": {},
          "execution_count": 40
        }
      ],
      "source": [
        "results"
      ]
    },
    {
      "cell_type": "markdown",
      "source": [
        "SUMMARY:\n",
        "\n",
        "Analysing model with 20 Epochs with a batch size of 512.\n",
        "\n",
        "Summary for Validation Loss function: (Activation function = tanh) (Loss = MSE)\n",
        "\n",
        "I've tested the Binary Cross Entropy and MSE loss functions for different units (16, 32, and 64) while maintaining the three layers and the tanh activation function (\"relu\" for certain comparisons). Regularization for MSE using hyper parameter is what I've used as (0.005)\n",
        "\n",
        "Nodes=16 with 3 Layers. BCE vs MSE, tanh: (Using Regularization)\n",
        "\n",
        "In MSE, the validation loss starts with 0.17 and gradually decreased to 0.12. In BSE, the validation loss starts with 0.4,flutuate and increased to 0.58.\n",
        "\n",
        "Nodes=32 with 3 Layers. BCE vs MSE, ReLU: (Using Regularization)\n",
        "\n",
        "In MSE, the validation loss starts with 0.15 and gradually decreased to 0.13. In BCE, the validation loss starts with 0.5, flutuate in the middle and decreased to 0.4.\n",
        "\n",
        "Nodes=32 with 3 Layers. BCE vs MSE, tanh: (Using Regularization)\n",
        "\n",
        "In MSE, the validation loss starts with 0.24 and gradually decreased to 0.1. In BSE, the validation loss starts with 0.4 and decreases untill epoch 6, again increased to 0.6.\n",
        "\n",
        "Nodes=64 with 3 Layers. BCE vs MSE, ReLU: (Using Regularization)\n",
        "\n",
        "In MSE, the validation loss starts with 0.2, flutuate in the middle and decreased to 0.13. In BSE, the validation loss starts with 0.5, flutuate in the middle and increased to 0.7.\n",
        "\n",
        "Nodes=64 with 3 Layers. BCE vs MSE, tanh: (Using Regularization)\n",
        "\n",
        "In MSE, the validation loss starts with 0.2, fluctuate in the middle and decreased to 0.1. In BSE, the validation loss starts with 0.5, flutuate in the middle and maintained same 0.5.\n",
        "\n",
        "Summary for Validation and training accuracy:\n",
        "\n",
        "Nodes=16,Layers=3,tanh: (Using Regularization l2 & Dropout)\n",
        "\n",
        "The validation accuracy, flutuate little bit in the middle but end up with 87%. The training accuracy increased to 94%.\n",
        "\n",
        "Nodes=32,Layers=3,tanh: (Using Regularization l2 & Dropout)\n",
        "\n",
        "The validation accuracy faced a lot of flutuation but increase to 87%. The training accuracy gradually increased to 94%.\n",
        "\n",
        "Nodes=64,Layers=3,tanh: (Using Regularization l2 & Dropout)\n",
        "\n",
        "The validation accuracy end up with flactuation but increased to 87%. The training accuracy gradually increase and reach 95%. By doing so, we may determine that the data used for training and validation differ significantly from one another. The use of stratified sampling can prevent this.\n",
        "\n",
        "Summary for test accuracy:\n",
        "\n",
        "Nodes=64 with 3 Layers. (Activation func: tanh), epoch=4:\n",
        "\n",
        "The test accuracy of the model is nearly 88% with the loss rate of 16.32.\n",
        "\n",
        "Nodes=64 with 3 Layers. (Activation func: relu), epoch=4:\n",
        "\n",
        "The test accuracy of the model is 86% with the loss rate of 21.25.\n",
        "\n",
        "Comparing the model with 3 hidden layers, l2 regularizer (0.005) and dropout, and 64 hidden nodes to other models with fewer layers and hidden nodes, the model with these features appears to have a lower loss rate during validation and testing, maintaining a less complex model and training and testing accuracy. \n",
        "\n",
        "Optimizer:\n",
        "\n",
        "Adam:\n",
        "In test set, optimizer \"adam\" is used. Adam is an optimization algorithm, it adapts the learning rate for each parameter based on its past gradients, and is computationally efficient and robust to the choice of hyperparameters. My model get accuracy of 88% using adam optimizer\n",
        "\n",
        "RMSPROP:\n",
        "\n",
        "RMSprop is an optimization algorithm, it uses a moving average of the squared gradients to adapt the learning rate for each parameter. This can help prevent oscillations and slow down learning in the presence of noisy gradients. RMSprop is often used in tasks such as image recognition, natural language processing, and speech recognition. The accuracy of test set using rmsdrop optimizer is 86%. \n",
        "\n",
        "\n",
        "\n",
        "\n",
        "\n",
        "\n",
        "\n",
        "\n",
        "\n",
        "\n",
        "\n",
        "\n",
        "\n",
        "\n"
      ],
      "metadata": {
        "id": "PKt6yxhcV4fi"
      }
    }
  ],
  "metadata": {
    "colab": {
      "provenance": []
    },
    "kernelspec": {
      "display_name": "Python 3",
      "language": "python",
      "name": "python3"
    },
    "language_info": {
      "codemirror_mode": {
        "name": "ipython",
        "version": 3
      },
      "file_extension": ".py",
      "mimetype": "text/x-python",
      "name": "python",
      "nbconvert_exporter": "python",
      "pygments_lexer": "ipython3",
      "version": "3.7.0"
    }
  },
  "nbformat": 4,
  "nbformat_minor": 0
}